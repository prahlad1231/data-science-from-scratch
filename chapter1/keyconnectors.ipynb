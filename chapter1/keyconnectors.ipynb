{
 "cells": [
  {
   "cell_type": "code",
   "execution_count": 1,
   "metadata": {
    "collapsed": true,
    "ExecuteTime": {
     "end_time": "2024-02-07T01:56:01.699975Z",
     "start_time": "2024-02-07T01:56:01.694301Z"
    }
   },
   "outputs": [],
   "source": [
    "# given a list of users with id and name, and a list of tuples denoting the relationships between the users\n",
    "# we will try to find the key connectors\n",
    "\n",
    "users = [\n",
    "    {\"id\": 0, \"name\": \"User 0\"},\n",
    "    {\"id\": 1, \"name\": \"User 1\"},\n",
    "    {\"id\": 2, \"name\": \"User 2\"},\n",
    "    {\"id\": 3, \"name\": \"User 3\"},\n",
    "    {\"id\": 4, \"name\": \"User 4\"},\n",
    "    {\"id\": 5, \"name\": \"User 5\"},\n",
    "    {\"id\": 6, \"name\": \"User 6\"},\n",
    "    {\"id\": 7, \"name\": \"User 7\"},\n",
    "    {\"id\": 8, \"name\": \"User 8\"},\n",
    "    {\"id\": 9, \"name\": \"User 9\"},\n",
    "]\n",
    "\n",
    "# (0, 1) indicates that there is a relationship between user 0 and user 1\n",
    "friendship_pairs = [\n",
    "    (0, 1), (0, 2),\n",
    "    (1, 2), (1, 3),\n",
    "    (2, 3),\n",
    "    (3, 4),\n",
    "    (4, 5),\n",
    "    (5, 6), (5, 7),\n",
    "    (6, 8),\n",
    "    (7, 8),\n",
    "    (8, 9),\n",
    "]"
   ]
  },
  {
   "cell_type": "code",
   "execution_count": 3,
   "outputs": [
    {
     "data": {
      "text/plain": "{0: [], 1: [], 2: [], 3: [], 4: [], 5: [], 6: [], 7: [], 8: [], 9: []}"
     },
     "execution_count": 3,
     "metadata": {},
     "output_type": "execute_result"
    }
   ],
   "source": [
    "\n",
    "friendships = {user[\"id\"]: [] for user in users}\n",
    "friendships"
   ],
   "metadata": {
    "collapsed": false,
    "ExecuteTime": {
     "end_time": "2024-02-07T01:56:43.999021Z",
     "start_time": "2024-02-07T01:56:43.995767Z"
    }
   }
  },
  {
   "cell_type": "code",
   "execution_count": 6,
   "outputs": [],
   "source": [
    "# now we try to find all the friendships for user 1\n",
    "\n",
    "# we try to store the relationships/friendships of each user in a dict\n",
    "for i, j in friendship_pairs:\n",
    "    friendships[i].append(j) # add j as a friend of i\n",
    "    friendships[j].append(i) # add i as a friend of j"
   ],
   "metadata": {
    "collapsed": false,
    "ExecuteTime": {
     "end_time": "2024-02-07T02:01:25.697651Z",
     "start_time": "2024-02-07T02:01:25.694680Z"
    }
   }
  },
  {
   "cell_type": "code",
   "execution_count": 7,
   "outputs": [
    {
     "data": {
      "text/plain": "{0: [1, 2],\n 1: [0, 2, 3],\n 2: [0, 1, 3],\n 3: [1, 2, 4],\n 4: [3, 5],\n 5: [4, 6, 7],\n 6: [5, 8],\n 7: [5, 8],\n 8: [6, 7, 9],\n 9: [8]}"
     },
     "execution_count": 7,
     "metadata": {},
     "output_type": "execute_result"
    }
   ],
   "source": [
    "friendships"
   ],
   "metadata": {
    "collapsed": false,
    "ExecuteTime": {
     "end_time": "2024-02-07T02:01:29.092621Z",
     "start_time": "2024-02-07T02:01:29.089586Z"
    }
   }
  },
  {
   "cell_type": "code",
   "execution_count": 8,
   "outputs": [
    {
     "name": "stdout",
     "output_type": "stream",
     "text": [
      "Total connections:  24\n"
     ]
    }
   ],
   "source": [
    "# finding the total number of connections altogether\n",
    "def get_total_number_of_friends(user):\n",
    "    user_id = user[\"id\"]\n",
    "    friend_id_list = friendships[user_id]\n",
    "    return len(friend_id_list)\n",
    "\n",
    "total_connections = sum(get_total_number_of_friends(user) for user in users) # example of list comprehension\n",
    "print(\"Total connections: \", total_connections)"
   ],
   "metadata": {
    "collapsed": false,
    "ExecuteTime": {
     "end_time": "2024-02-07T02:01:30.472888Z",
     "start_time": "2024-02-07T02:01:30.470262Z"
    }
   }
  },
  {
   "cell_type": "code",
   "execution_count": 9,
   "outputs": [
    {
     "name": "stdout",
     "output_type": "stream",
     "text": [
      "Total number of users:  10 \n",
      "Average connections:  2.4\n"
     ]
    }
   ],
   "source": [
    "num_users = len(users)\n",
    "avg_connections = total_connections / num_users\n",
    "print(\"Total number of users: \", num_users, \"\\nAverage connections: \", avg_connections)"
   ],
   "metadata": {
    "collapsed": false,
    "ExecuteTime": {
     "end_time": "2024-02-07T02:01:32.754580Z",
     "start_time": "2024-02-07T02:01:32.749071Z"
    }
   }
  },
  {
   "cell_type": "code",
   "execution_count": 10,
   "outputs": [
    {
     "data": {
      "text/plain": "[(0, 2),\n (1, 3),\n (2, 3),\n (3, 3),\n (4, 2),\n (5, 3),\n (6, 2),\n (7, 2),\n (8, 3),\n (9, 1)]"
     },
     "execution_count": 10,
     "metadata": {},
     "output_type": "execute_result"
    }
   ],
   "source": [
    "# now let's find the most connected users and the least connected users\n",
    "number_of_connections_by_id = [(user[\"id\"], get_total_number_of_friends(user))\n",
    "                               for user in users]\n",
    "\n",
    "number_of_connections_by_id"
   ],
   "metadata": {
    "collapsed": false,
    "ExecuteTime": {
     "end_time": "2024-02-07T02:01:36.267532Z",
     "start_time": "2024-02-07T02:01:36.264775Z"
    }
   }
  },
  {
   "cell_type": "code",
   "execution_count": 11,
   "outputs": [
    {
     "data": {
      "text/plain": "[(1, 3),\n (2, 3),\n (3, 3),\n (5, 3),\n (8, 3),\n (0, 2),\n (4, 2),\n (6, 2),\n (7, 2),\n (9, 1)]"
     },
     "execution_count": 11,
     "metadata": {},
     "output_type": "execute_result"
    }
   ],
   "source": [
    "# sorting the list depending on the total number of connections in descending order\n",
    "\n",
    "number_of_connections_by_id.sort(\n",
    "    key=lambda friends: friends[1], # takes the second element at index 1 as a comparison key from each tuple of number_of_connections_by_id\n",
    "    reverse=True\n",
    ")\n",
    "\n",
    "number_of_connections_by_id # it denotes the network metric degree centrality"
   ],
   "metadata": {
    "collapsed": false,
    "ExecuteTime": {
     "end_time": "2024-02-07T02:01:38.727218Z",
     "start_time": "2024-02-07T02:01:38.722911Z"
    }
   }
  },
  {
   "cell_type": "code",
   "execution_count": 13,
   "outputs": [
    {
     "name": "stdout",
     "output_type": "stream",
     "text": [
      "Counter({0: 2, 5: 1})\n"
     ]
    }
   ],
   "source": [
    "# People you may know feature\n",
    "\n",
    "# first let's suggest that users might know the friends of their friends\n",
    "from collections import Counter\n",
    "\n",
    "def friends_of_friends(user):\n",
    "    user_id = user[\"id\"]\n",
    "    return Counter(\n",
    "        fof_id\n",
    "        for friend_id in friendships[user_id]   # for each friend\n",
    "        for fof_id in friendships[friend_id]    # finding their friends\n",
    "        if fof_id != user_id                    # who aren't the user\n",
    "        and fof_id not in friendships[user_id]  # and aren't user's friends\n",
    "    )\n",
    "\n",
    "print(friends_of_friends(users[3]))"
   ],
   "metadata": {
    "collapsed": false,
    "ExecuteTime": {
     "end_time": "2024-02-07T02:02:17.839785Z",
     "start_time": "2024-02-07T02:02:17.836621Z"
    }
   }
  },
  {
   "cell_type": "code",
   "execution_count": null,
   "outputs": [],
   "source": [
    "def people_you_may_know(user):\n",
    "    user_id = user[\"id\"]\n",
    "    result = {}\n",
    "    for friend_id in friendships[user_id]:\n",
    "        \n"
   ],
   "metadata": {
    "collapsed": false
   }
  }
 ],
 "metadata": {
  "kernelspec": {
   "display_name": "Python 3",
   "language": "python",
   "name": "python3"
  },
  "language_info": {
   "codemirror_mode": {
    "name": "ipython",
    "version": 2
   },
   "file_extension": ".py",
   "mimetype": "text/x-python",
   "name": "python",
   "nbconvert_exporter": "python",
   "pygments_lexer": "ipython2",
   "version": "2.7.6"
  }
 },
 "nbformat": 4,
 "nbformat_minor": 0
}
